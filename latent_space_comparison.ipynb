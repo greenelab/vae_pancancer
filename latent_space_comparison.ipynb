{
 "cells": [
  {
   "cell_type": "markdown",
   "metadata": {},
   "source": [
    "# Comparing latent space arithmetic between dimensionality reduction algorithms\n",
    "\n",
    "Generative models, including variational autoencoders (VAE), have demonstrated the ability to mathematically manipulate the learned latent space to unveil intuitive features. We are interested in this ability and sought to compare alternative dimensionality reduction algorithms.\n",
    "\n",
    "The algorithms include:\n",
    "\n",
    "| | Algorithm | Acronym |\n",
    "|:-- | :------- | :-----: |\n",
    "| 1 | Principal Components Analysis | PCA |\n",
    "| 2 | Independent Components Analysis | ICA |\n",
    "| 3 | Non-negative Matrix Factorization | NMF |\n",
    "| 4 | Analysis Using Denoising Autoencoders of Gene Expression | ADAGE |\n",
    "| 5 | Tybalt (Single Layer Variational Auotencoder) | VAE |\n",
    "| 6 | Two Hidden Layer Variational Autoencoder (100 dimensions) | VAE100 |\n",
    "| 7 | Two Hidden Layer Variational Autoencoder (300 dimensions) | VAE300 |\n",
    "\n",
    "\n",
    "## Rationale\n",
    "\n",
    "We test the ability to identify biological signals through subtraction by applying the subtraction to an unsolved problem of stratifying high grade serous ovarian cancer (HGSC) subtypes. Previous work has demonstrated that the mesenchymal subtype and immunoreactive subtype collapse into each other depending on the clustering algorithm. Therefore, we hypothesized that these subtypes actually exist on continuous activation spectra. Therefore, latent space subtraction should reveal features that best separate samples in each subtype. Moreover, these differences should consist of known differences between the subtypes.\n",
    "\n",
    "## Approach\n",
    "\n",
    "The notebook is split into two parts. First, we perform latent feature (vector) subtraction between the _Mesenchymal_ and _Immunoreactive_ mean latent space vectors. We visualize this difference across several dimensionality reduction algorithms listed above. Second, we take the feature most explanatory of the _Mesenchymal_ subtype and output the respective high weight genes (defined by > 2.5 std dev). These genes are run through a downstream pathways analysis."
   ]
  },
  {
   "cell_type": "code",
   "execution_count": 1,
   "metadata": {
    "collapsed": false
   },
   "outputs": [],
   "source": [
    "import os\n",
    "import numpy as np\n",
    "import pandas as pd\n",
    "import matplotlib.pyplot as plt\n",
    "import seaborn as sns"
   ]
  },
  {
   "cell_type": "code",
   "execution_count": 2,
   "metadata": {
    "collapsed": true
   },
   "outputs": [],
   "source": [
    "%matplotlib inline\n",
    "plt.style.use('seaborn-notebook')"
   ]
  },
  {
   "cell_type": "code",
   "execution_count": 3,
   "metadata": {
    "collapsed": true
   },
   "outputs": [],
   "source": [
    "sns.set(style='white', color_codes=True)\n",
    "sns.set_context('paper', rc={'font.size': 12, 'axes.titlesize': 15, 'axes.labelsize': 20,\n",
    "                             'xtick.labelsize': 14, 'ytick.labelsize': 14})"
   ]
  },
  {
   "cell_type": "code",
   "execution_count": 4,
   "metadata": {
    "collapsed": true
   },
   "outputs": [],
   "source": [
    "# Set seed for plotting\n",
    "np.random.seed(123)"
   ]
  },
  {
   "cell_type": "code",
   "execution_count": 5,
   "metadata": {
    "collapsed": false
   },
   "outputs": [
    {
     "data": {
      "text/html": [
       "<div>\n",
       "<style>\n",
       "    .dataframe thead tr:only-child th {\n",
       "        text-align: right;\n",
       "    }\n",
       "\n",
       "    .dataframe thead th {\n",
       "        text-align: left;\n",
       "    }\n",
       "\n",
       "    .dataframe tbody tr th {\n",
       "        vertical-align: top;\n",
       "    }\n",
       "</style>\n",
       "<table border=\"1\" class=\"dataframe\">\n",
       "  <thead>\n",
       "    <tr style=\"text-align: right;\">\n",
       "      <th></th>\n",
       "      <th>DATASET</th>\n",
       "      <th>SUBTYPE</th>\n",
       "      <th>AGE</th>\n",
       "      <th>PLATINUM-STATUS</th>\n",
       "      <th>STAGE</th>\n",
       "      <th>GRADE</th>\n",
       "      <th>TUMORRESIDUALDISEASE</th>\n",
       "      <th>SURVIVALSTATUS</th>\n",
       "      <th>SURVIVALMONTHS</th>\n",
       "      <th>RECURRENCE-STATUS</th>\n",
       "      <th>...</th>\n",
       "      <th>Proliferative ssGSEA raw score</th>\n",
       "      <th>Differentiated ssGSEA normalized score</th>\n",
       "      <th>Immunoreactive ssGSEA normalized score</th>\n",
       "      <th>Mesenchymal ssGSEA normalized score</th>\n",
       "      <th>Proliferative ssGSEA normalized score</th>\n",
       "      <th>Differentiated-binary</th>\n",
       "      <th>Immunoreactive-binary</th>\n",
       "      <th>Mesenchymal-binary</th>\n",
       "      <th>Proliferative-binary</th>\n",
       "      <th>SILHOUETTE WIDTH</th>\n",
       "    </tr>\n",
       "    <tr>\n",
       "      <th>ID</th>\n",
       "      <th></th>\n",
       "      <th></th>\n",
       "      <th></th>\n",
       "      <th></th>\n",
       "      <th></th>\n",
       "      <th></th>\n",
       "      <th></th>\n",
       "      <th></th>\n",
       "      <th></th>\n",
       "      <th></th>\n",
       "      <th></th>\n",
       "      <th></th>\n",
       "      <th></th>\n",
       "      <th></th>\n",
       "      <th></th>\n",
       "      <th></th>\n",
       "      <th></th>\n",
       "      <th></th>\n",
       "      <th></th>\n",
       "      <th></th>\n",
       "      <th></th>\n",
       "    </tr>\n",
       "  </thead>\n",
       "  <tbody>\n",
       "    <tr>\n",
       "      <th>TCGA-04-1357-01</th>\n",
       "      <td>TCGA-discovery</td>\n",
       "      <td>Immunoreactive</td>\n",
       "      <td>52.0</td>\n",
       "      <td>unknown</td>\n",
       "      <td>IIIB</td>\n",
       "      <td>G3</td>\n",
       "      <td>unknown</td>\n",
       "      <td>LIVING</td>\n",
       "      <td>unknown</td>\n",
       "      <td>unknown</td>\n",
       "      <td>...</td>\n",
       "      <td>127.0</td>\n",
       "      <td>0.765</td>\n",
       "      <td>0.948</td>\n",
       "      <td>0.406</td>\n",
       "      <td>0.169</td>\n",
       "      <td>1</td>\n",
       "      <td>1</td>\n",
       "      <td>0</td>\n",
       "      <td>0</td>\n",
       "      <td>0.184202</td>\n",
       "    </tr>\n",
       "    <tr>\n",
       "      <th>TCGA-04-1519-01</th>\n",
       "      <td>TCGA-discovery</td>\n",
       "      <td>Proliferative</td>\n",
       "      <td>48.0</td>\n",
       "      <td>unknown</td>\n",
       "      <td>IIIC</td>\n",
       "      <td>G3</td>\n",
       "      <td>unknown</td>\n",
       "      <td>unknown</td>\n",
       "      <td>unknown</td>\n",
       "      <td>unknown</td>\n",
       "      <td>...</td>\n",
       "      <td>2,578.4</td>\n",
       "      <td>0.555</td>\n",
       "      <td>0.128</td>\n",
       "      <td>0.331</td>\n",
       "      <td>0.750</td>\n",
       "      <td>1</td>\n",
       "      <td>0</td>\n",
       "      <td>0</td>\n",
       "      <td>1</td>\n",
       "      <td>0.088401</td>\n",
       "    </tr>\n",
       "  </tbody>\n",
       "</table>\n",
       "<p>2 rows × 25 columns</p>\n",
       "</div>"
      ],
      "text/plain": [
       "                        DATASET         SUBTYPE   AGE PLATINUM-STATUS STAGE  \\\n",
       "ID                                                                            \n",
       "TCGA-04-1357-01  TCGA-discovery  Immunoreactive  52.0         unknown  IIIB   \n",
       "TCGA-04-1519-01  TCGA-discovery   Proliferative  48.0         unknown  IIIC   \n",
       "\n",
       "                GRADE TUMORRESIDUALDISEASE SURVIVALSTATUS SURVIVALMONTHS  \\\n",
       "ID                                                                         \n",
       "TCGA-04-1357-01    G3              unknown         LIVING        unknown   \n",
       "TCGA-04-1519-01    G3              unknown        unknown        unknown   \n",
       "\n",
       "                RECURRENCE-STATUS        ...         \\\n",
       "ID                                       ...          \n",
       "TCGA-04-1357-01           unknown        ...          \n",
       "TCGA-04-1519-01           unknown        ...          \n",
       "\n",
       "                Proliferative ssGSEA raw score  \\\n",
       "ID                                               \n",
       "TCGA-04-1357-01                          127.0   \n",
       "TCGA-04-1519-01                        2,578.4   \n",
       "\n",
       "                 Differentiated ssGSEA normalized score  \\\n",
       "ID                                                        \n",
       "TCGA-04-1357-01                                   0.765   \n",
       "TCGA-04-1519-01                                   0.555   \n",
       "\n",
       "                Immunoreactive ssGSEA normalized score  \\\n",
       "ID                                                       \n",
       "TCGA-04-1357-01                                  0.948   \n",
       "TCGA-04-1519-01                                  0.128   \n",
       "\n",
       "                Mesenchymal ssGSEA normalized score  \\\n",
       "ID                                                    \n",
       "TCGA-04-1357-01                               0.406   \n",
       "TCGA-04-1519-01                               0.331   \n",
       "\n",
       "                Proliferative ssGSEA normalized score Differentiated-binary  \\\n",
       "ID                                                                            \n",
       "TCGA-04-1357-01                                 0.169                     1   \n",
       "TCGA-04-1519-01                                 0.750                     1   \n",
       "\n",
       "                 Immunoreactive-binary  Mesenchymal-binary  \\\n",
       "ID                                                           \n",
       "TCGA-04-1357-01                      1                   0   \n",
       "TCGA-04-1519-01                      0                   0   \n",
       "\n",
       "                 Proliferative-binary  SILHOUETTE WIDTH  \n",
       "ID                                                       \n",
       "TCGA-04-1357-01                     0          0.184202  \n",
       "TCGA-04-1519-01                     1          0.088401  \n",
       "\n",
       "[2 rows x 25 columns]"
      ]
     },
     "execution_count": 5,
     "metadata": {},
     "output_type": "execute_result"
    }
   ],
   "source": [
    "ov_file = os.path.join('data', 'ov_subtype_info.tsv')\n",
    "ov_df = pd.read_table(ov_file, index_col=0)\n",
    "ov_df.head(2)"
   ]
  },
  {
   "cell_type": "code",
   "execution_count": 6,
   "metadata": {
    "collapsed": true
   },
   "outputs": [],
   "source": [
    "def get_encoded_ovsubtype_info(encoded_df, ov_df):\n",
    "    \"\"\"\n",
    "    Process latent feature encodings and ovarian cancer subtypes dataframe\n",
    "    \n",
    "    Arguments:\n",
    "    encoded_df - pandas dataframe of sample by latent feature encodings\n",
    "    ov_df - clinical data frame of ovarian cancer samples and\n",
    "            their corresponding TCGA subtype label\n",
    "    \n",
    "    Output:\n",
    "    A tuple consisting of:\n",
    "    1) A merged DataFrame of encodings by subtype, with color assignments\n",
    "    2) A summary DataFrame of mean encodings across subtypes\n",
    "    \"\"\"\n",
    "    # Subset and merge the HGSC subtype info with the latent space feature activations\n",
    "    ov_samples = list(set(encoded_df.index) & (set(ov_df.index)))\n",
    "\n",
    "    ov_encoded = encoded_df.loc[ov_samples, ]\n",
    "    ov_encoded_subtype_df = pd.merge(ov_df.loc[:, ['SUBTYPE', 'SILHOUETTE WIDTH']], ov_encoded,\n",
    "                                     how='right', left_index=True, right_index=True)\n",
    "    ov_encoded_subtype_df = ov_encoded_subtype_df.assign(subtype_color =\n",
    "                                                         ov_encoded_subtype_df['SUBTYPE'])\n",
    "\n",
    "    ov_subtype_color_dict = {'Differentiated': 'purple',\n",
    "                             'Immunoreactive': 'green',\n",
    "                             'Mesenchymal': 'blue',\n",
    "                             'Proliferative': 'red'}\n",
    "\n",
    "    ov_encoded_subtype_df = ov_encoded_subtype_df.replace({'subtype_color': ov_subtype_color_dict})\n",
    "    \n",
    "    # Get mean subtype vectors\n",
    "    ov_mean_subtype_df = ov_encoded_subtype_df.groupby('SUBTYPE').mean()\n",
    "    \n",
    "    return (ov_encoded_subtype_df, ov_mean_subtype_df)"
   ]
  },
  {
   "cell_type": "code",
   "execution_count": 7,
   "metadata": {
    "collapsed": true
   },
   "outputs": [],
   "source": [
    "def ov_subtraction(ov_mean_df, subtype_tuple, algorithm):\n",
    "    \"\"\"\n",
    "    Determine the ranked difference between ovarian cancer subtypes according to input mean\n",
    "    encoded feature activation\n",
    "    \n",
    "    Arguments:\n",
    "    ov_mean_df - DataFrame indicating the mean vector representation of ovarian cancer subtypes\n",
    "    subtype_tuple - a tuple storing two strings indicating the subtraction to perform\n",
    "                    select two: 'Mesenchymal', 'Proliferative', 'Immunoreactive', or 'Differentated'\n",
    "    algorithm - a string indicating the algorithm used. Will form the c\n",
    "                    \n",
    "    Output:\n",
    "    A ranking of encoded feature differences\n",
    "    \"\"\"\n",
    "    \n",
    "    subtype_a, subtype_b = subtype_tuple\n",
    "    mean_a_vector = ov_mean_df.loc[subtype_a, [str(x) for x in range(1, 101)]]\n",
    "    mean_b_vector = ov_mean_df.loc[subtype_b, [str(x) for x in range(1, 101)]]\n",
    "\n",
    "    ov_vector = mean_a_vector - mean_b_vector\n",
    "    ov_vector = ov_vector.sort_values(ascending=False)\n",
    "    ov_vector = ov_vector.reset_index()\n",
    "    ov_vector.columns = ['{}_features'.format(algorithm), algorithm]\n",
    "    return ov_vector"
   ]
  },
  {
   "cell_type": "markdown",
   "metadata": {},
   "source": [
    "## Load Encoded Feature Data"
   ]
  },
  {
   "cell_type": "code",
   "execution_count": 8,
   "metadata": {
    "collapsed": false
   },
   "outputs": [],
   "source": [
    "pca_file = 'https://github.com/gwaygenomics/pancan_viz/raw/7725578eaefe3eb3f6caf2e03927349405780ce5/data/pca_rnaseq.tsv.gz'\n",
    "ica_file = 'https://github.com/gwaygenomics/pancan_viz/raw/7725578eaefe3eb3f6caf2e03927349405780ce5/data/ica_rnaseq.tsv.gz'\n",
    "nmf_file = 'https://github.com/gwaygenomics/pancan_viz/raw/7725578eaefe3eb3f6caf2e03927349405780ce5/data/nmf_rnaseq.tsv.gz'\n",
    "adage_file = 'https://github.com/greenelab/tybalt/raw/87496e23447a06904bf9c07c389584147b87bd65/data/encoded_adage_features.tsv'\n",
    "vae_file = 'https://github.com/greenelab/tybalt/raw/87496e23447a06904bf9c07c389584147b87bd65/data/encoded_rnaseq_onehidden_warmup_batchnorm.tsv'\n",
    "vae_twolayer_file = '../tybalt/data/encoded_rnaseq_twohidden_100model.tsv.gz'\n",
    "vae_twolayer300_file = '../tybalt/data/encoded_rnaseq_twohidden_300model.tsv.gz'\n",
    "\n",
    "pca_encoded_df = pd.read_table(pca_file, index_col=0)\n",
    "ica_encoded_df = pd.read_table(ica_file, index_col=0)\n",
    "nmf_encoded_df = pd.read_table(nmf_file, index_col=0)\n",
    "adage_encoded_df = pd.read_table(adage_file, index_col=0)\n",
    "vae_encoded_df = pd.read_table(vae_file, index_col=0)\n",
    "vae_twolayer_encoded_df = pd.read_table(vae_twolayer_file, index_col=0)\n",
    "vae_twolayer300_encoded_df = pd.read_table(vae_twolayer300_file, index_col=0)"
   ]
  },
  {
   "cell_type": "markdown",
   "metadata": {},
   "source": [
    "## Process encoded feature data"
   ]
  },
  {
   "cell_type": "code",
   "execution_count": 9,
   "metadata": {
    "collapsed": false
   },
   "outputs": [],
   "source": [
    "pca_ov_df, pca_ov_mean_df = get_encoded_ovsubtype_info(pca_encoded_df, ov_df)\n",
    "ica_ov_df, ica_ov_mean_df = get_encoded_ovsubtype_info(ica_encoded_df, ov_df)\n",
    "nmf_ov_df, nmf_ov_mean_df = get_encoded_ovsubtype_info(nmf_encoded_df, ov_df)\n",
    "adage_ov_df, adage_ov_mean_df = get_encoded_ovsubtype_info(adage_encoded_df, ov_df)\n",
    "vae_ov_df, vae_ov_mean_df = get_encoded_ovsubtype_info(vae_encoded_df, ov_df)\n",
    "vae_tl_ov_df, vae_tl_ov_mean_df = get_encoded_ovsubtype_info(vae_twolayer_encoded_df, ov_df)\n",
    "vae_tl300_ov_df, vae_tl300_ov_mean_df = get_encoded_ovsubtype_info(vae_twolayer300_encoded_df, ov_df)"
   ]
  },
  {
   "cell_type": "markdown",
   "metadata": {},
   "source": [
    "## HGSC Subtype Arithmetic\n",
    "\n",
    "Because of the relationship observed in the consistent clustering solutions, perform the following subtraction:\n",
    "\n",
    "_Immunoreactive_ - _Mesenchymal_\n",
    "\n",
    "The goal is to observe the features with the largest difference and compare what the features represent depending on the dimensionality reduction algorithm\n",
    "\n",
    "### Part I. Visualizing feature activation differences across algorithms"
   ]
  },
  {
   "cell_type": "code",
   "execution_count": 10,
   "metadata": {
    "collapsed": false
   },
   "outputs": [],
   "source": [
    "mes_immuno = ('Mesenchymal', 'Immunoreactive')"
   ]
  },
  {
   "cell_type": "code",
   "execution_count": 11,
   "metadata": {
    "collapsed": false
   },
   "outputs": [],
   "source": [
    "algorithms = ['pca', 'ica', 'nmf', 'adage', 'tybalt', 'vae_100', 'vae_300']\n",
    "\n",
    "pca_ov_vector = ov_subtraction(pca_ov_mean_df, mes_immuno, 'pca')\n",
    "ica_ov_vector = ov_subtraction(ica_ov_mean_df, mes_immuno, 'ica')\n",
    "nmf_ov_vector = ov_subtraction(nmf_ov_mean_df, mes_immuno, 'nmf')\n",
    "adage_ov_vector = ov_subtraction(adage_ov_mean_df, mes_immuno, 'adage')\n",
    "vae_ov_vector = ov_subtraction(vae_ov_mean_df, mes_immuno, 'tybalt')\n",
    "vae_tl_ov_vector = ov_subtraction(vae_tl_ov_mean_df, mes_immuno, 'vae_100')\n",
    "vae_tl300_ov_vector = ov_subtraction(vae_tl300_ov_mean_df, mes_immuno, 'vae_300')"
   ]
  },
  {
   "cell_type": "code",
   "execution_count": 12,
   "metadata": {
    "collapsed": false
   },
   "outputs": [
    {
     "data": {
      "text/html": [
       "<div>\n",
       "<style>\n",
       "    .dataframe thead tr:only-child th {\n",
       "        text-align: right;\n",
       "    }\n",
       "\n",
       "    .dataframe thead th {\n",
       "        text-align: left;\n",
       "    }\n",
       "\n",
       "    .dataframe tbody tr th {\n",
       "        vertical-align: top;\n",
       "    }\n",
       "</style>\n",
       "<table border=\"1\" class=\"dataframe\">\n",
       "  <thead>\n",
       "    <tr style=\"text-align: right;\">\n",
       "      <th></th>\n",
       "      <th>pca_features</th>\n",
       "      <th>pca</th>\n",
       "      <th>ica_features</th>\n",
       "      <th>ica</th>\n",
       "      <th>nmf_features</th>\n",
       "      <th>nmf</th>\n",
       "      <th>adage_features</th>\n",
       "      <th>adage</th>\n",
       "      <th>tybalt_features</th>\n",
       "      <th>tybalt</th>\n",
       "      <th>vae_100_features</th>\n",
       "      <th>vae_100</th>\n",
       "      <th>vae_300_features</th>\n",
       "      <th>vae_300</th>\n",
       "    </tr>\n",
       "  </thead>\n",
       "  <tbody>\n",
       "    <tr>\n",
       "      <th>0</th>\n",
       "      <td>1</td>\n",
       "      <td>8.245418</td>\n",
       "      <td>32</td>\n",
       "      <td>0.021696</td>\n",
       "      <td>75</td>\n",
       "      <td>0.111632</td>\n",
       "      <td>32</td>\n",
       "      <td>1.630940</td>\n",
       "      <td>87</td>\n",
       "      <td>3.247565</td>\n",
       "      <td>62</td>\n",
       "      <td>4.821263</td>\n",
       "      <td>87</td>\n",
       "      <td>1.301180</td>\n",
       "    </tr>\n",
       "    <tr>\n",
       "      <th>1</th>\n",
       "      <td>10</td>\n",
       "      <td>6.544235</td>\n",
       "      <td>14</td>\n",
       "      <td>0.007522</td>\n",
       "      <td>39</td>\n",
       "      <td>0.107550</td>\n",
       "      <td>53</td>\n",
       "      <td>1.527983</td>\n",
       "      <td>92</td>\n",
       "      <td>1.791708</td>\n",
       "      <td>50</td>\n",
       "      <td>3.436752</td>\n",
       "      <td>57</td>\n",
       "      <td>0.814365</td>\n",
       "    </tr>\n",
       "  </tbody>\n",
       "</table>\n",
       "</div>"
      ],
      "text/plain": [
       "  pca_features       pca ica_features       ica nmf_features       nmf  \\\n",
       "0            1  8.245418           32  0.021696           75  0.111632   \n",
       "1           10  6.544235           14  0.007522           39  0.107550   \n",
       "\n",
       "  adage_features     adage tybalt_features    tybalt vae_100_features  \\\n",
       "0             32  1.630940              87  3.247565               62   \n",
       "1             53  1.527983              92  1.791708               50   \n",
       "\n",
       "    vae_100 vae_300_features   vae_300  \n",
       "0  4.821263               87  1.301180  \n",
       "1  3.436752               57  0.814365  "
      ]
     },
     "execution_count": 12,
     "metadata": {},
     "output_type": "execute_result"
    }
   ],
   "source": [
    "latent_space_df = pd.concat([pca_ov_vector, ica_ov_vector,\n",
    "                             nmf_ov_vector, adage_ov_vector,\n",
    "                             vae_ov_vector, vae_tl_ov_vector,\n",
    "                             vae_tl300_ov_vector], axis=1)\n",
    "latent_space_df.head(2)"
   ]
  },
  {
   "cell_type": "code",
   "execution_count": 13,
   "metadata": {
    "collapsed": false
   },
   "outputs": [],
   "source": [
    "long_latent_space_df = latent_space_df.stack().reset_index()\n",
    "long_latent_space_df.columns = ['rank', 'algorithm', 'activation']\n",
    "long_latent_space_df = long_latent_space_df[long_latent_space_df['algorithm'].isin(algorithms)]\n",
    "long_latent_space_df = long_latent_space_df.assign(algorithm_color =\n",
    "                                                  long_latent_space_df['algorithm'])"
   ]
  },
  {
   "cell_type": "code",
   "execution_count": 14,
   "metadata": {
    "collapsed": false
   },
   "outputs": [
    {
     "data": {
      "text/html": [
       "<div>\n",
       "<style>\n",
       "    .dataframe thead tr:only-child th {\n",
       "        text-align: right;\n",
       "    }\n",
       "\n",
       "    .dataframe thead th {\n",
       "        text-align: left;\n",
       "    }\n",
       "\n",
       "    .dataframe tbody tr th {\n",
       "        vertical-align: top;\n",
       "    }\n",
       "</style>\n",
       "<table border=\"1\" class=\"dataframe\">\n",
       "  <thead>\n",
       "    <tr style=\"text-align: right;\">\n",
       "      <th></th>\n",
       "      <th>rank</th>\n",
       "      <th>algorithm</th>\n",
       "      <th>activation</th>\n",
       "      <th>algorithm_color</th>\n",
       "    </tr>\n",
       "  </thead>\n",
       "  <tbody>\n",
       "    <tr>\n",
       "      <th>1</th>\n",
       "      <td>0</td>\n",
       "      <td>pca</td>\n",
       "      <td>8.24542</td>\n",
       "      <td>#a6cee3</td>\n",
       "    </tr>\n",
       "    <tr>\n",
       "      <th>3</th>\n",
       "      <td>0</td>\n",
       "      <td>ica</td>\n",
       "      <td>0.0216961</td>\n",
       "      <td>#1f78b4</td>\n",
       "    </tr>\n",
       "    <tr>\n",
       "      <th>5</th>\n",
       "      <td>0</td>\n",
       "      <td>nmf</td>\n",
       "      <td>0.111632</td>\n",
       "      <td>#b2df8a</td>\n",
       "    </tr>\n",
       "    <tr>\n",
       "      <th>7</th>\n",
       "      <td>0</td>\n",
       "      <td>adage</td>\n",
       "      <td>1.63094</td>\n",
       "      <td>#33a02c</td>\n",
       "    </tr>\n",
       "    <tr>\n",
       "      <th>9</th>\n",
       "      <td>0</td>\n",
       "      <td>tybalt</td>\n",
       "      <td>3.24757</td>\n",
       "      <td>#fb9a99</td>\n",
       "    </tr>\n",
       "  </tbody>\n",
       "</table>\n",
       "</div>"
      ],
      "text/plain": [
       "   rank algorithm activation algorithm_color\n",
       "1     0       pca    8.24542         #a6cee3\n",
       "3     0       ica  0.0216961         #1f78b4\n",
       "5     0       nmf   0.111632         #b2df8a\n",
       "7     0     adage    1.63094         #33a02c\n",
       "9     0    tybalt    3.24757         #fb9a99"
      ]
     },
     "execution_count": 14,
     "metadata": {},
     "output_type": "execute_result"
    }
   ],
   "source": [
    "algorithm_color_dict = {'pca': '#a6cee3',\n",
    "                        'ica': '#1f78b4',\n",
    "                        'nmf': '#b2df8a',\n",
    "                        'adage': '#33a02c',\n",
    "                        'tybalt': '#fb9a99',\n",
    "                        'vae_100': '#e31a1c',\n",
    "                        'vae_300': '#fdbf6f'}\n",
    "\n",
    "long_latent_space_df = long_latent_space_df.replace({'algorithm_color': algorithm_color_dict})\n",
    "long_latent_space_df.head()"
   ]
  },
  {
   "cell_type": "code",
   "execution_count": 15,
   "metadata": {
    "collapsed": false
   },
   "outputs": [
    {
     "data": {
      "image/png": "[encoded data removed]",
      "text/plain": [
       "<matplotlib.figure.Figure at 0x7f7ba11ef898>"
      ]
     },
     "metadata": {},
     "output_type": "display_data"
    }
   ],
   "source": [
    "latent_space_figure = os.path.join('figures', 'algorithm_comparison_latent_space.png')\n",
    "ax = sns.pointplot(x='rank', y='activation', hue='algorithm', data=long_latent_space_df,\n",
    "                   palette=algorithm_color_dict, markers=['x', '3', '4', 'd', '*', 'd','o'],\n",
    "                   orient='v', scale=0.6)\n",
    "ax.set_xlabel('Feature Rank')\n",
    "ax.set_ylabel('Mesenchymal - Immunoreactive\\nFeature Activation')\n",
    "ax.set(xticklabels=[]);\n",
    "plt.tight_layout()\n",
    "plt.setp(ax.get_legend().get_texts(), fontsize='12')\n",
    "plt.setp(ax.get_legend().get_title(), fontsize='16')\n",
    "plt.savefig(latent_space_figure, dpi=600, height=6, width=5)"
   ]
  },
  {
   "cell_type": "markdown",
   "metadata": {},
   "source": [
    "### Part II. Extract high weight genes from each most explanatory feature"
   ]
  },
  {
   "cell_type": "code",
   "execution_count": 16,
   "metadata": {
    "collapsed": true
   },
   "outputs": [],
   "source": [
    "def get_high_weight_genes(weight_matrix, node, high_std=2.5, direction='positive',\n",
    "                          output_file=False):\n",
    "    \"\"\"\n",
    "    Determine high weight genes given a gene weight matrix and feature\n",
    "    Output tab separated file\n",
    "    \"\"\"\n",
    "    genes = weight_matrix.loc[int(node), :].sort_values(ascending=False)\n",
    "    if direction == 'positive':\n",
    "        node_df = (genes[genes > genes.std() * high_std])\n",
    "        abbrev = 'pos'\n",
    "    elif direction == 'negative':\n",
    "        node_df = (genes[genes < -1 * (genes.std() * high_std)])\n",
    "        abbrev = 'neg'\n",
    "\n",
    "    node_df = pd.DataFrame(node_df).reset_index()\n",
    "    node_df.columns = ['genes', 'weight']\n",
    "    \n",
    "    if output_file:\n",
    "        node_df.to_csv(output_file, index=False, sep='\\t')\n",
    "    \n",
    "    return node_df"
   ]
  },
  {
   "cell_type": "code",
   "execution_count": 17,
   "metadata": {
    "collapsed": false
   },
   "outputs": [],
   "source": [
    "# Load feature matrices\n",
    "pca_feature_file = '../pancan_viz/data/pca_feature_rnaseq.tsv.gz'\n",
    "ica_feature_file = '../pancan_viz/data/ica_feature_rnaseq.tsv.gz'\n",
    "nmf_feature_file = '../pancan_viz/data/nmf_feature_rnaseq.tsv.gz'\n",
    "adage_feature_file = 'https://github.com/greenelab/tybalt/raw/928804ffd3bb3f9d5559796b2221500c303ed92c/data/adage_gene_weights.tsv'\n",
    "tybalt_feature_file = 'https://github.com/greenelab/tybalt/raw/928804ffd3bb3f9d5559796b2221500c303ed92c/results/tybalt_gene_weights.tsv'\n",
    "vae_feature_twolayer_file = 'https://github.com/greenelab/tybalt/raw/7d2854172b57efc4b92ca80d3ec86dfbbc3e4325/data/tybalt_gene_weights_twohidden100.tsv'\n",
    "vae_feature_twolayer300_file = 'https://github.com/greenelab/tybalt/raw/7d2854172b57efc4b92ca80d3ec86dfbbc3e4325/data/tybalt_gene_weights_twohidden300.tsv'\n",
    "\n",
    "pca_feature_df = pd.read_table(pca_feature_file, index_col=0)\n",
    "ica_feature_df = pd.read_table(ica_feature_file, index_col=0)\n",
    "nmf_feature_df = pd.read_table(nmf_feature_file, index_col=0)\n",
    "adage_feature_df = pd.read_table(adage_feature_file, index_col=0).T\n",
    "adage_feature_df.index = range(1, 101)\n",
    "tybalt_feature_df = pd.read_table(tybalt_feature_file, index_col=0)\n",
    "vae_tl_feature_df = pd.read_table(vae_feature_twolayer_file, index_col=0)\n",
    "vae_tl300_feature_df = pd.read_table(vae_feature_twolayer300_file, index_col=0)"
   ]
  },
  {
   "cell_type": "code",
   "execution_count": 18,
   "metadata": {
    "collapsed": false
   },
   "outputs": [
    {
     "data": {
      "text/html": [
       "<div>\n",
       "<style>\n",
       "    .dataframe thead tr:only-child th {\n",
       "        text-align: right;\n",
       "    }\n",
       "\n",
       "    .dataframe thead th {\n",
       "        text-align: left;\n",
       "    }\n",
       "\n",
       "    .dataframe tbody tr th {\n",
       "        vertical-align: top;\n",
       "    }\n",
       "</style>\n",
       "<table border=\"1\" class=\"dataframe\">\n",
       "  <thead>\n",
       "    <tr style=\"text-align: right;\">\n",
       "      <th></th>\n",
       "      <th>pca_features</th>\n",
       "      <th>pca</th>\n",
       "      <th>ica_features</th>\n",
       "      <th>ica</th>\n",
       "      <th>nmf_features</th>\n",
       "      <th>nmf</th>\n",
       "      <th>adage_features</th>\n",
       "      <th>adage</th>\n",
       "      <th>tybalt_features</th>\n",
       "      <th>tybalt</th>\n",
       "      <th>vae_100_features</th>\n",
       "      <th>vae_100</th>\n",
       "      <th>vae_300_features</th>\n",
       "      <th>vae_300</th>\n",
       "    </tr>\n",
       "  </thead>\n",
       "  <tbody>\n",
       "    <tr>\n",
       "      <th>0</th>\n",
       "      <td>1</td>\n",
       "      <td>8.245418</td>\n",
       "      <td>32</td>\n",
       "      <td>0.021696</td>\n",
       "      <td>75</td>\n",
       "      <td>0.111632</td>\n",
       "      <td>32</td>\n",
       "      <td>1.63094</td>\n",
       "      <td>87</td>\n",
       "      <td>3.247565</td>\n",
       "      <td>62</td>\n",
       "      <td>4.821263</td>\n",
       "      <td>87</td>\n",
       "      <td>1.30118</td>\n",
       "    </tr>\n",
       "  </tbody>\n",
       "</table>\n",
       "</div>"
      ],
      "text/plain": [
       "  pca_features       pca ica_features       ica nmf_features       nmf  \\\n",
       "0            1  8.245418           32  0.021696           75  0.111632   \n",
       "\n",
       "  adage_features    adage tybalt_features    tybalt vae_100_features  \\\n",
       "0             32  1.63094              87  3.247565               62   \n",
       "\n",
       "    vae_100 vae_300_features  vae_300  \n",
       "0  4.821263               87  1.30118  "
      ]
     },
     "execution_count": 18,
     "metadata": {},
     "output_type": "execute_result"
    }
   ],
   "source": [
    "# This is the largest difference in the Mesenchymal subtype across various algorithms\n",
    "latent_space_df.head(1)"
   ]
  },
  {
   "cell_type": "code",
   "execution_count": 19,
   "metadata": {
    "collapsed": false
   },
   "outputs": [],
   "source": [
    "# Define output files\n",
    "base_dir = os.path.join('results', 'feature_comparison')\n",
    "pca_out_genes = os.path.join(base_dir, 'pca_mesenchymal_genes.tsv')\n",
    "ica_out_genes = os.path.join(base_dir, 'ica_mesenchymal_genes.tsv')\n",
    "nmf_out_genes = os.path.join(base_dir, 'nmf_mesenchymal_genes.tsv')\n",
    "adage_out_genes = os.path.join(base_dir, 'adage_mesenchymal_genes.tsv')\n",
    "tybalt_out_genes = os.path.join(base_dir, 'tybalt_mesenchymal_genes.tsv')\n",
    "vae_100_out_genes = os.path.join(base_dir, 'vae100_mesenchymal_genes.tsv')\n",
    "vae_300_out_genes = os.path.join(base_dir, 'vae300_mesenchymal_genes.tsv')\n",
    "\n",
    "# Extract the most explanatory feature based on subtraction\n",
    "pca_node = latent_space_df.loc[0, 'pca_features']\n",
    "ica_node = latent_space_df.loc[0, 'ica_features']\n",
    "nmf_node = latent_space_df.loc[0, 'nmf_features']\n",
    "adage_node = latent_space_df.loc[0, 'adage_features']\n",
    "tybalt_node = latent_space_df.loc[0, 'tybalt_features']\n",
    "vae_100_node = latent_space_df.loc[0, 'vae_100_features']\n",
    "vae_300_node = latent_space_df.loc[0, 'vae_300_features']\n",
    "\n",
    "# Output the high weight genes\n",
    "pca_genes = get_high_weight_genes(pca_feature_df, pca_node, output_file=pca_out_genes)\n",
    "ica_genes = get_high_weight_genes(ica_feature_df, ica_node, output_file=ica_out_genes)\n",
    "nmf_genes = get_high_weight_genes(nmf_feature_df, nmf_node, output_file=nmf_out_genes)\n",
    "adage_genes = get_high_weight_genes(adage_feature_df, adage_node, output_file=adage_out_genes)\n",
    "tybalt_genes = get_high_weight_genes(tybalt_feature_df, tybalt_node, output_file=tybalt_out_genes)\n",
    "vae_100_genes = get_high_weight_genes(vae_tl_feature_df, vae_100_node, output_file=vae_100_out_genes)\n",
    "vae_300_genes = get_high_weight_genes(vae_tl300_feature_df, vae_300_node, output_file=vae_300_out_genes)"
   ]
  }
 ],
 "metadata": {
  "kernelspec": {
   "display_name": "Python [default]",
   "language": "python",
   "name": "python3"
  },
  "language_info": {
   "codemirror_mode": {
    "name": "ipython",
    "version": 3
   },
   "file_extension": ".py",
   "mimetype": "text/x-python",
   "name": "python",
   "nbconvert_exporter": "python",
   "pygments_lexer": "ipython3",
   "version": "3.5.2"
  }
 },
 "nbformat": 4,
 "nbformat_minor": 0
}
